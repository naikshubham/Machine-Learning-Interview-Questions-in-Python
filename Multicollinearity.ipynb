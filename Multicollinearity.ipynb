{
 "cells": [
  {
   "cell_type": "markdown",
   "metadata": {},
   "source": [
    "## Multicollinearity techniques - feature engineering\n",
    "- Multicollinearity is a common issue that might affect performance in any machine learning context. Knowing how to discuss this small detail could take our explanation of modeling from good to great and really set us apart in an interview.\n",
    "- **Task** : creating a baseline model using Linear Regression on the diabetes dataset and explore some of the output metrics. Then we'll practice techniques to visually explore the correlation between the independent variables before finally perform feature engineering on 2 variables that are highly correlated. "
   ]
  },
  {
   "cell_type": "code",
   "execution_count": 2,
   "metadata": {},
   "outputs": [],
   "source": [
    "import pandas as pd\n",
    "import seaborn as sns\n",
    "import matplotlib.pyplot as plt\n",
    "from sklearn.linear_model import LinearRegression\n",
    "from sklearn.model_selection import train_test_split\n",
    "from sklearn.metrics import accuracy_score, r2_score, mean_squared_error"
   ]
  },
  {
   "cell_type": "code",
   "execution_count": 3,
   "metadata": {},
   "outputs": [],
   "source": [
    "diabetes = pd.read_csv('data/diabetes.csv')\n",
    "X = diabetes.drop('progression', axis=1)\n",
    "y = diabetes['progression']\n",
    "X_train, X_test, y_train, y_test = train_test_split(X, y, test_size=0.3, random_state=123)"
   ]
  },
  {
   "cell_type": "markdown",
   "metadata": {},
   "source": [
    "- Instantiate, fit, and predict a Linear Regression.\n",
    "- Print the model coefficients, MSE, and r-squared."
   ]
  },
  {
   "cell_type": "code",
   "execution_count": 4,
   "metadata": {},
   "outputs": [
    {
     "name": "stdout",
     "output_type": "stream",
     "text": [
      "Coefficients: \n",
      " [  10.45384922 -261.16601105  538.84541221  280.72544466 -855.21447839\n",
      "  472.17305267  166.51881384  309.88763264  684.0489522   102.37723262]\n",
      "Mean squared error: 2926.80\n",
      "R_squared score: 0.51\n"
     ]
    }
   ],
   "source": [
    "# Instantiate, fit, predict\n",
    "lin_mod = LinearRegression()\n",
    "lin_mod.fit(X_train, y_train)\n",
    "y_pred = lin_mod.predict(X_test)\n",
    "\n",
    "# Coefficient estimates\n",
    "print('Coefficients: \\n', lin_mod.coef_)\n",
    "\n",
    "# Mean squared error\n",
    "print(\"Mean squared error: %.2f\"\n",
    "      % mean_squared_error(y_test, y_pred))\n",
    "\n",
    "# Explained variance score\n",
    "print('R_squared score: %.2f' % r2_score(y_test, y_pred))"
   ]
  },
  {
   "cell_type": "markdown",
   "metadata": {},
   "source": [
    "- Create a correlation matrix, plot it to a heatmap.\n",
    "- Print the matrix to explore the independent variable relationships."
   ]
  },
  {
   "cell_type": "code",
   "execution_count": 5,
   "metadata": {},
   "outputs": [
    {
     "data": {
      "image/png": "[encoded data removed]",
      "text/plain": [
       "<Figure size 432x288 with 2 Axes>"
      ]
     },
     "metadata": {
      "needs_background": "light"
     },
     "output_type": "display_data"
    },
    {
     "name": "stdout",
     "output_type": "stream",
     "text": [
      "                  age       sex       bmi        bp        s1        s2  \\\n",
      "age          1.000000  0.173737  0.185085  0.335427  0.260061  0.219243   \n",
      "sex          0.173737  1.000000  0.088161  0.241013  0.035277  0.142637   \n",
      "bmi          0.185085  0.088161  1.000000  0.395415  0.249777  0.261170   \n",
      "bp           0.335427  0.241013  0.395415  1.000000  0.242470  0.185558   \n",
      "s1           0.260061  0.035277  0.249777  0.242470  1.000000  0.896663   \n",
      "s2           0.219243  0.142637  0.261170  0.185558  0.896663  1.000000   \n",
      "s3          -0.075181 -0.379090 -0.366811 -0.178761  0.051519 -0.196455   \n",
      "s4           0.203841  0.332115  0.413807  0.257653  0.542207  0.659817   \n",
      "s5           0.270777  0.149918  0.446159  0.393478  0.515501  0.318353   \n",
      "s6           0.301731  0.208133  0.388680  0.390429  0.325717  0.290600   \n",
      "progression  0.187889  0.043062  0.586450  0.441484  0.212022  0.174054   \n",
      "\n",
      "                   s3        s4        s5        s6  progression  \n",
      "age         -0.075181  0.203841  0.270777  0.301731     0.187889  \n",
      "sex         -0.379090  0.332115  0.149918  0.208133     0.043062  \n",
      "bmi         -0.366811  0.413807  0.446159  0.388680     0.586450  \n",
      "bp          -0.178761  0.257653  0.393478  0.390429     0.441484  \n",
      "s1           0.051519  0.542207  0.515501  0.325717     0.212022  \n",
      "s2          -0.196455  0.659817  0.318353  0.290600     0.174054  \n",
      "s3           1.000000 -0.738493 -0.398577 -0.273697    -0.394789  \n",
      "s4          -0.738493  1.000000  0.617857  0.417212     0.430453  \n",
      "s5          -0.398577  0.617857  1.000000  0.464670     0.565883  \n",
      "s6          -0.273697  0.417212  0.464670  1.000000     0.382483  \n",
      "progression -0.394789  0.430453  0.565883  0.382483     1.000000  \n"
     ]
    }
   ],
   "source": [
    "# Correlation matrix\n",
    "diab_corr = diabetes.corr()\n",
    "\n",
    "# Generate correlation heatmap\n",
    "ax = sns.heatmap(diab_corr, center=0, cmap=sns.diverging_palette(20,220, n=256), square=True)\n",
    "ax.set_xticklabels(ax.get_xticklabels(), rotation=45, horizontalalignment='right')\n",
    "plt.show()\n",
    "\n",
    "# Print correlations\n",
    "print(diab_corr)"
   ]
  },
  {
   "cell_type": "markdown",
   "metadata": {},
   "source": [
    "- Engineer a new feature by combining s1 and s2 from diabetes, then remove them.\n",
    "- Split your data into training and testing data with 30% test size and print the column names."
   ]
  },
  {
   "cell_type": "code",
   "execution_count": 6,
   "metadata": {},
   "outputs": [
    {
     "name": "stdout",
     "output_type": "stream",
     "text": [
      "Index(['age', 'sex', 'bmi', 'bp', 's3', 's4', 's5', 's6', 'progression',\n",
      "       's1_s2'],\n",
      "      dtype='object')\n"
     ]
    }
   ],
   "source": [
    "# Feature engineering\n",
    "diabetes['s1_s2'] = diabetes['s1'] * diabetes['s2']\n",
    "diabetes = diabetes.drop(['s1','s2'], axis=1)\n",
    "\n",
    "# Print variable names\n",
    "print(diabetes.columns)\n",
    "\n",
    "# Train/test split\n",
    "X2 = diabetes.drop('progression', axis=1)\n",
    "y2 = diabetes['progression']\n",
    "X_train2, X_test2, y_train2, y_test2 = train_test_split(X2, y2, test_size=0.3, random_state=123)"
   ]
  },
  {
   "cell_type": "markdown",
   "metadata": {},
   "source": [
    "- Instantiate, fit, and predict a Linear Regression.\n",
    "- Print the model coefficients, MSE, and r-squared."
   ]
  },
  {
   "cell_type": "code",
   "execution_count": 7,
   "metadata": {},
   "outputs": [
    {
     "name": "stdout",
     "output_type": "stream",
     "text": [
      "Coefficients: \n",
      " [  -2.33325625 -250.45569362  541.16674251  260.86592129 -338.13983816\n",
      "  -47.01999461  430.98561453   94.21041896 -283.69973876]\n",
      "Mean squared error: 2910.42\n",
      "R_squared score: 0.51\n"
     ]
    }
   ],
   "source": [
    "# Instantiate, fit, predict\n",
    "lin_mod2 = LinearRegression()\n",
    "lin_mod2.fit(X_train2, y_train2)\n",
    "y_pred2 = lin_mod2.predict(X_test2)\n",
    "\n",
    "# Coefficient estimates\n",
    "print('Coefficients: \\n', lin_mod2.coef_)\n",
    "\n",
    "# Mean squared error\n",
    "print(\"Mean squared error: %.2f\"\n",
    "      % mean_squared_error(y_test2, y_pred2))\n",
    "\n",
    "# Explained variance score\n",
    "print('R_squared score: %.2f' % r2_score(y_test2, y_pred2))"
   ]
  },
  {
   "cell_type": "markdown",
   "metadata": {},
   "source": [
    "#### Now we know how to get metrics from your baseline model, how to explore relationships visually, and how to use feature engineering to reduce multicollinearity. We got the same R-squared score, but the MSE was slightly lower! Trying different combinations of feature engineering would likely continue to improve the model."
   ]
  },
  {
   "cell_type": "markdown",
   "metadata": {},
   "source": [
    "## Multicollinearity techniques - PCA\n",
    "- In the last exercise we used feature engineering to combine the s1 and s2 independent variables as s1_s2 since they displayed the highest correlation in the diabetes dataset.\n",
    "- **Task**: We'll perform PCA on diabetes to remove multicollinearity before we apply Linear Regression to it. Then, we'll compare the output metrics to those from the last exercise. Finally, we'll visualize what the correlation matrix and heatmap of the dataset looks like since PCA completely removes multicollinearity."
   ]
  },
  {
   "cell_type": "code",
   "execution_count": 8,
   "metadata": {},
   "outputs": [
    {
     "name": "stderr",
     "output_type": "stream",
     "text": [
      "C:\\Users\\Shubham\\Anaconda3\\lib\\importlib\\_bootstrap.py:219: RuntimeWarning: numpy.ufunc size changed, may indicate binary incompatibility. Expected 216, got 192\n",
      "  return f(*args, **kwds)\n"
     ]
    }
   ],
   "source": [
    "# Import\n",
    "from sklearn.decomposition import PCA"
   ]
  },
  {
   "cell_type": "markdown",
   "metadata": {},
   "source": [
    "- Instantiate and fit.\n",
    "- Transform train and test separately."
   ]
  },
  {
   "cell_type": "code",
   "execution_count": 13,
   "metadata": {},
   "outputs": [
    {
     "data": {
      "text/html": [
       "<div>\n",
       "<style scoped>\n",
       "    .dataframe tbody tr th:only-of-type {\n",
       "        vertical-align: middle;\n",
       "    }\n",
       "\n",
       "    .dataframe tbody tr th {\n",
       "        vertical-align: top;\n",
       "    }\n",
       "\n",
       "    .dataframe thead th {\n",
       "        text-align: right;\n",
       "    }\n",
       "</style>\n",
       "<table border=\"1\" class=\"dataframe\">\n",
       "  <thead>\n",
       "    <tr style=\"text-align: right;\">\n",
       "      <th></th>\n",
       "      <th>age</th>\n",
       "      <th>sex</th>\n",
       "      <th>bmi</th>\n",
       "      <th>bp</th>\n",
       "      <th>s1</th>\n",
       "      <th>s2</th>\n",
       "      <th>s3</th>\n",
       "      <th>s4</th>\n",
       "      <th>s5</th>\n",
       "      <th>s6</th>\n",
       "    </tr>\n",
       "  </thead>\n",
       "  <tbody>\n",
       "    <tr>\n",
       "      <th>374</th>\n",
       "      <td>-0.107226</td>\n",
       "      <td>-0.044642</td>\n",
       "      <td>-0.034229</td>\n",
       "      <td>-0.067642</td>\n",
       "      <td>-0.063487</td>\n",
       "      <td>-0.070520</td>\n",
       "      <td>0.008142</td>\n",
       "      <td>-0.039493</td>\n",
       "      <td>-0.000609</td>\n",
       "      <td>-0.079778</td>\n",
       "    </tr>\n",
       "    <tr>\n",
       "      <th>420</th>\n",
       "      <td>0.023546</td>\n",
       "      <td>-0.044642</td>\n",
       "      <td>-0.036385</td>\n",
       "      <td>0.000068</td>\n",
       "      <td>0.001183</td>\n",
       "      <td>0.034698</td>\n",
       "      <td>-0.043401</td>\n",
       "      <td>0.034309</td>\n",
       "      <td>-0.033249</td>\n",
       "      <td>0.061054</td>\n",
       "    </tr>\n",
       "    <tr>\n",
       "      <th>204</th>\n",
       "      <td>0.110727</td>\n",
       "      <td>0.050680</td>\n",
       "      <td>0.006728</td>\n",
       "      <td>0.028758</td>\n",
       "      <td>-0.027712</td>\n",
       "      <td>-0.007264</td>\n",
       "      <td>-0.047082</td>\n",
       "      <td>0.034309</td>\n",
       "      <td>0.002008</td>\n",
       "      <td>0.077622</td>\n",
       "    </tr>\n",
       "    <tr>\n",
       "      <th>263</th>\n",
       "      <td>-0.074533</td>\n",
       "      <td>0.050680</td>\n",
       "      <td>-0.077342</td>\n",
       "      <td>-0.046985</td>\n",
       "      <td>-0.046975</td>\n",
       "      <td>-0.032629</td>\n",
       "      <td>0.004460</td>\n",
       "      <td>-0.039493</td>\n",
       "      <td>-0.072128</td>\n",
       "      <td>-0.017646</td>\n",
       "    </tr>\n",
       "    <tr>\n",
       "      <th>285</th>\n",
       "      <td>0.012648</td>\n",
       "      <td>-0.044642</td>\n",
       "      <td>-0.020218</td>\n",
       "      <td>-0.015999</td>\n",
       "      <td>0.012191</td>\n",
       "      <td>0.021233</td>\n",
       "      <td>-0.076536</td>\n",
       "      <td>0.108111</td>\n",
       "      <td>0.059881</td>\n",
       "      <td>-0.021788</td>\n",
       "    </tr>\n",
       "  </tbody>\n",
       "</table>\n",
       "</div>"
      ],
      "text/plain": [
       "          age       sex       bmi        bp        s1        s2        s3  \\\n",
       "374 -0.107226 -0.044642 -0.034229 -0.067642 -0.063487 -0.070520  0.008142   \n",
       "420  0.023546 -0.044642 -0.036385  0.000068  0.001183  0.034698 -0.043401   \n",
       "204  0.110727  0.050680  0.006728  0.028758 -0.027712 -0.007264 -0.047082   \n",
       "263 -0.074533  0.050680 -0.077342 -0.046985 -0.046975 -0.032629  0.004460   \n",
       "285  0.012648 -0.044642 -0.020218 -0.015999  0.012191  0.021233 -0.076536   \n",
       "\n",
       "           s4        s5        s6  \n",
       "374 -0.039493 -0.000609 -0.079778  \n",
       "420  0.034309 -0.033249  0.061054  \n",
       "204  0.034309  0.002008  0.077622  \n",
       "263 -0.039493 -0.072128 -0.017646  \n",
       "285  0.108111  0.059881 -0.021788  "
      ]
     },
     "execution_count": 13,
     "metadata": {},
     "output_type": "execute_result"
    }
   ],
   "source": [
    "X_train.head()"
   ]
  },
  {
   "cell_type": "code",
   "execution_count": 9,
   "metadata": {},
   "outputs": [],
   "source": [
    "# Instantiate\n",
    "pca = PCA()\n",
    "\n",
    "# Fit on train\n",
    "pca.fit(X_train)\n",
    "\n",
    "# Transform train and test\n",
    "X_trainPCA = pca.transform(X_train)\n",
    "X_testPCA = pca.transform(X_test)"
   ]
  },
  {
   "cell_type": "code",
   "execution_count": 12,
   "metadata": {},
   "outputs": [
    {
     "data": {
      "text/html": [
       "<div>\n",
       "<style scoped>\n",
       "    .dataframe tbody tr th:only-of-type {\n",
       "        vertical-align: middle;\n",
       "    }\n",
       "\n",
       "    .dataframe tbody tr th {\n",
       "        vertical-align: top;\n",
       "    }\n",
       "\n",
       "    .dataframe thead th {\n",
       "        text-align: right;\n",
       "    }\n",
       "</style>\n",
       "<table border=\"1\" class=\"dataframe\">\n",
       "  <thead>\n",
       "    <tr style=\"text-align: right;\">\n",
       "      <th></th>\n",
       "      <th>0</th>\n",
       "      <th>1</th>\n",
       "      <th>2</th>\n",
       "      <th>3</th>\n",
       "      <th>4</th>\n",
       "      <th>5</th>\n",
       "      <th>6</th>\n",
       "      <th>7</th>\n",
       "      <th>8</th>\n",
       "      <th>9</th>\n",
       "    </tr>\n",
       "  </thead>\n",
       "  <tbody>\n",
       "    <tr>\n",
       "      <th>0</th>\n",
       "      <td>-0.151702</td>\n",
       "      <td>-0.016960</td>\n",
       "      <td>-0.068084</td>\n",
       "      <td>0.076945</td>\n",
       "      <td>0.004199</td>\n",
       "      <td>0.006049</td>\n",
       "      <td>0.041131</td>\n",
       "      <td>0.020627</td>\n",
       "      <td>-0.004424</td>\n",
       "      <td>-0.004917</td>\n",
       "    </tr>\n",
       "    <tr>\n",
       "      <th>1</th>\n",
       "      <td>0.033791</td>\n",
       "      <td>0.014986</td>\n",
       "      <td>-0.007369</td>\n",
       "      <td>-0.006305</td>\n",
       "      <td>-0.036504</td>\n",
       "      <td>0.037205</td>\n",
       "      <td>-0.033845</td>\n",
       "      <td>-0.087121</td>\n",
       "      <td>-0.000309</td>\n",
       "      <td>0.000085</td>\n",
       "    </tr>\n",
       "    <tr>\n",
       "      <th>2</th>\n",
       "      <td>0.083563</td>\n",
       "      <td>-0.072098</td>\n",
       "      <td>0.050041</td>\n",
       "      <td>-0.075376</td>\n",
       "      <td>-0.059597</td>\n",
       "      <td>0.012291</td>\n",
       "      <td>-0.024200</td>\n",
       "      <td>-0.023898</td>\n",
       "      <td>0.010172</td>\n",
       "      <td>-0.003616</td>\n",
       "    </tr>\n",
       "    <tr>\n",
       "      <th>3</th>\n",
       "      <td>-0.119322</td>\n",
       "      <td>-0.026581</td>\n",
       "      <td>-0.067653</td>\n",
       "      <td>-0.047807</td>\n",
       "      <td>0.041819</td>\n",
       "      <td>0.052134</td>\n",
       "      <td>-0.006455</td>\n",
       "      <td>-0.002236</td>\n",
       "      <td>-0.005060</td>\n",
       "      <td>0.005411</td>\n",
       "    </tr>\n",
       "    <tr>\n",
       "      <th>4</th>\n",
       "      <td>0.078441</td>\n",
       "      <td>0.004784</td>\n",
       "      <td>-0.076911</td>\n",
       "      <td>0.041092</td>\n",
       "      <td>-0.070295</td>\n",
       "      <td>-0.026402</td>\n",
       "      <td>0.048205</td>\n",
       "      <td>-0.050827</td>\n",
       "      <td>0.023819</td>\n",
       "      <td>-0.004589</td>\n",
       "    </tr>\n",
       "  </tbody>\n",
       "</table>\n",
       "</div>"
      ],
      "text/plain": [
       "          0         1         2         3         4         5         6  \\\n",
       "0 -0.151702 -0.016960 -0.068084  0.076945  0.004199  0.006049  0.041131   \n",
       "1  0.033791  0.014986 -0.007369 -0.006305 -0.036504  0.037205 -0.033845   \n",
       "2  0.083563 -0.072098  0.050041 -0.075376 -0.059597  0.012291 -0.024200   \n",
       "3 -0.119322 -0.026581 -0.067653 -0.047807  0.041819  0.052134 -0.006455   \n",
       "4  0.078441  0.004784 -0.076911  0.041092 -0.070295 -0.026402  0.048205   \n",
       "\n",
       "          7         8         9  \n",
       "0  0.020627 -0.004424 -0.004917  \n",
       "1 -0.087121 -0.000309  0.000085  \n",
       "2 -0.023898  0.010172 -0.003616  \n",
       "3 -0.002236 -0.005060  0.005411  \n",
       "4 -0.050827  0.023819 -0.004589  "
      ]
     },
     "execution_count": 12,
     "metadata": {},
     "output_type": "execute_result"
    }
   ],
   "source": [
    "X_trainPCA.head()"
   ]
  },
  {
   "cell_type": "markdown",
   "metadata": {},
   "source": [
    "- Instantiate, fit, and predict a Linear Regression to PCA transformed dataset.\n",
    "- Print the model coefficients, MSE, and r-squared"
   ]
  },
  {
   "cell_type": "code",
   "execution_count": 10,
   "metadata": {},
   "outputs": [
    {
     "name": "stdout",
     "output_type": "stream",
     "text": [
      "Coefficients: \n",
      " [  431.83041038  -293.77173602   253.57573406   568.70922969\n",
      "   -67.51943277  -186.26488336    71.89012557    47.21891689\n",
      "    93.98511769 -1130.48023791]\n",
      "Mean squared error: 2926.80\n",
      "Variance score: 0.51\n"
     ]
    }
   ],
   "source": [
    "# Instantiate, fit, predict\n",
    "LinRegr = LinearRegression()\n",
    "LinRegr.fit(X_trainPCA, y_train)\n",
    "predictions = LinRegr.predict(X_testPCA)\n",
    "\n",
    "# The coefficients\n",
    "print('Coefficients: \\n', LinRegr.coef_)\n",
    "\n",
    "# The mean squared error\n",
    "print(\"Mean squared error: %.2f\" % mean_squared_error(y_test, predictions))\n",
    "\n",
    "# Explained variance score: 1 is perfect prediction\n",
    "print('Variance score: %.2f' % r2_score(y_test, predictions))"
   ]
  },
  {
   "cell_type": "markdown",
   "metadata": {},
   "source": [
    "- Create a correlation matrix, plot it to a heatmap.\n",
    "- Print the matrix to explore the independent variable relationships."
   ]
  },
  {
   "cell_type": "code",
   "execution_count": 11,
   "metadata": {},
   "outputs": [
    {
     "data": {
      "image/png": "[encoded data removed]",
      "text/plain": [
       "<Figure size 432x288 with 2 Axes>"
      ]
     },
     "metadata": {
      "needs_background": "light"
     },
     "output_type": "display_data"
    },
    {
     "name": "stdout",
     "output_type": "stream",
     "text": [
      "              0             1             2             3             4  \\\n",
      "0  1.000000e+00 -3.017855e-16  6.063410e-17 -9.623671e-17  9.617392e-16   \n",
      "1 -3.017855e-16  1.000000e+00 -2.236114e-16 -3.476124e-16  1.943732e-16   \n",
      "2  6.063410e-17 -2.236114e-16  1.000000e+00 -9.793741e-17  4.701620e-17   \n",
      "3 -9.623671e-17 -3.476124e-16 -9.793741e-17  1.000000e+00 -1.080915e-16   \n",
      "4  9.617392e-16  1.943732e-16  4.701620e-17 -1.080915e-16  1.000000e+00   \n",
      "5  3.020790e-16 -6.414429e-17 -8.451099e-17 -1.554285e-16 -2.336328e-16   \n",
      "6 -4.308509e-17 -3.571030e-16 -1.545062e-18 -2.945942e-16  8.637883e-17   \n",
      "7  1.715343e-16  9.823794e-17  2.552183e-17 -2.233830e-16  3.108671e-16   \n",
      "8  5.637363e-16 -9.936824e-16  4.103661e-16  9.836595e-16  3.235043e-17   \n",
      "9 -9.709772e-16  1.366355e-15  5.684313e-16  1.157833e-15  1.475857e-16   \n",
      "\n",
      "              5             6             7             8             9  \n",
      "0  3.020790e-16 -4.308509e-17  1.715343e-16  5.637363e-16 -9.709772e-16  \n",
      "1 -6.414429e-17 -3.571030e-16  9.823794e-17 -9.936824e-16  1.366355e-15  \n",
      "2 -8.451099e-17 -1.545062e-18  2.552183e-17  4.103661e-16  5.684313e-16  \n",
      "3 -1.554285e-16 -2.945942e-16 -2.233830e-16  9.836595e-16  1.157833e-15  \n",
      "4 -2.336328e-16  8.637883e-17  3.108671e-16  3.235043e-17  1.475857e-16  \n",
      "5  1.000000e+00 -5.536686e-16 -3.290812e-16 -5.258196e-16 -1.348420e-15  \n",
      "6 -5.536686e-16  1.000000e+00  8.487897e-16 -4.120217e-17 -3.709510e-16  \n",
      "7 -3.290812e-16  8.487897e-16  1.000000e+00 -4.196271e-16 -1.113766e-16  \n",
      "8 -5.258196e-16 -4.120217e-17 -4.196271e-16  1.000000e+00 -1.184223e-15  \n",
      "9 -1.348420e-15 -3.709510e-16 -1.113766e-16 -1.184223e-15  1.000000e+00  \n"
     ]
    }
   ],
   "source": [
    "# Correlation matrix\n",
    "X_trainPCA = pd.DataFrame(X_trainPCA)\n",
    "diab_corrPCA = X_trainPCA.corr()\n",
    "\n",
    "# Generate correlation heatmap\n",
    "ax = sns.heatmap(diab_corrPCA, center=0, cmap=sns.diverging_palette(20,220, n=256), square=True)\n",
    "ax.set_xticklabels(ax.get_xticklabels(), rotation=45, horizontalalignment='right')\n",
    "plt.show()\n",
    "\n",
    "# Print correlations\n",
    "print(diab_corrPCA)"
   ]
  },
  {
   "cell_type": "markdown",
   "metadata": {},
   "source": [
    "### This simple change, although it didn't improve your metrics, removed all of the multicollinearity in the diabetes dataset!"
   ]
  }
 ],
 "metadata": {
  "kernelspec": {
   "display_name": "Python 3",
   "language": "python",
   "name": "python3"
  },
  "language_info": {
   "codemirror_mode": {
    "name": "ipython",
    "version": 3
   },
   "file_extension": ".py",
   "mimetype": "text/x-python",
   "name": "python",
   "nbconvert_exporter": "python",
   "pygments_lexer": "ipython3",
   "version": "3.7.3"
  }
 },
 "nbformat": 4,
 "nbformat_minor": 2
}
