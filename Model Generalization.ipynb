{
 "cells": [
  {
   "cell_type": "markdown",
   "metadata": {},
   "source": [
    "## Decision tree\n",
    "- We'll be introduced to various ways to make sure any model we're asked to create or discuss is generalizable, evaluated correctly, and properly selected from among other possible models.\n",
    "- Here we'll tune min_samples_split, which is the minimum number of samples required to create an additional binary split, and max_depth, which is how deep we want to grow the tree. The deeper a tree, the more splits and therefore captures more information about the data."
   ]
  },
  {
   "cell_type": "code",
   "execution_count": 1,
   "metadata": {},
   "outputs": [],
   "source": [
    "# Import modules\n",
    "import pandas as pd\n",
    "import matplotlib.pyplot as plt\n",
    "from sklearn.tree import DecisionTreeClassifier\n",
    "from sklearn.metrics import accuracy_score\n",
    "from sklearn.model_selection import train_test_split\n",
    "import warnings\n",
    "warnings.filterwarnings(\"ignore\")"
   ]
  },
  {
   "cell_type": "code",
   "execution_count": 2,
   "metadata": {},
   "outputs": [
    {
     "data": {
      "text/html": [
       "<div>\n",
       "<style scoped>\n",
       "    .dataframe tbody tr th:only-of-type {\n",
       "        vertical-align: middle;\n",
       "    }\n",
       "\n",
       "    .dataframe tbody tr th {\n",
       "        vertical-align: top;\n",
       "    }\n",
       "\n",
       "    .dataframe thead th {\n",
       "        text-align: right;\n",
       "    }\n",
       "</style>\n",
       "<table border=\"1\" class=\"dataframe\">\n",
       "  <thead>\n",
       "    <tr style=\"text-align: right;\">\n",
       "      <th></th>\n",
       "      <th>Loan Status</th>\n",
       "      <th>Current Loan Amount</th>\n",
       "      <th>Credit Score</th>\n",
       "      <th>Years in current job</th>\n",
       "      <th>Years of Credit History</th>\n",
       "      <th>Months since last delinquent</th>\n",
       "      <th>Number of Open Accounts</th>\n",
       "      <th>Number of Credit Problems</th>\n",
       "      <th>Current Credit Balance</th>\n",
       "      <th>Maximum Open Credit</th>\n",
       "      <th>...</th>\n",
       "      <th>Purpose_EducationalExpenses</th>\n",
       "      <th>Purpose_HomeImprovements</th>\n",
       "      <th>Purpose_HomePurchase</th>\n",
       "      <th>Purpose_MajorPurchase</th>\n",
       "      <th>Purpose_MedicalBills</th>\n",
       "      <th>Purpose_Moving</th>\n",
       "      <th>Purpose_Other</th>\n",
       "      <th>Purpose_RenewableEnergyPurchase</th>\n",
       "      <th>Purpose_Vacation</th>\n",
       "      <th>Purpose_Wedding</th>\n",
       "    </tr>\n",
       "  </thead>\n",
       "  <tbody>\n",
       "    <tr>\n",
       "      <th>0</th>\n",
       "      <td>1</td>\n",
       "      <td>2.00</td>\n",
       "      <td>0.84</td>\n",
       "      <td>-0.48</td>\n",
       "      <td>0.84</td>\n",
       "      <td>0.29</td>\n",
       "      <td>0.18</td>\n",
       "      <td>-0.34</td>\n",
       "      <td>0.82</td>\n",
       "      <td>0.19</td>\n",
       "      <td>...</td>\n",
       "      <td>0</td>\n",
       "      <td>0</td>\n",
       "      <td>0</td>\n",
       "      <td>0</td>\n",
       "      <td>0</td>\n",
       "      <td>0</td>\n",
       "      <td>0</td>\n",
       "      <td>0</td>\n",
       "      <td>0</td>\n",
       "      <td>0</td>\n",
       "    </tr>\n",
       "    <tr>\n",
       "      <th>1</th>\n",
       "      <td>1</td>\n",
       "      <td>0.32</td>\n",
       "      <td>0.49</td>\n",
       "      <td>0.91</td>\n",
       "      <td>-1.97</td>\n",
       "      <td>0.77</td>\n",
       "      <td>1.79</td>\n",
       "      <td>-0.34</td>\n",
       "      <td>0.56</td>\n",
       "      <td>1.05</td>\n",
       "      <td>...</td>\n",
       "      <td>0</td>\n",
       "      <td>0</td>\n",
       "      <td>0</td>\n",
       "      <td>0</td>\n",
       "      <td>0</td>\n",
       "      <td>0</td>\n",
       "      <td>0</td>\n",
       "      <td>0</td>\n",
       "      <td>0</td>\n",
       "      <td>0</td>\n",
       "    </tr>\n",
       "    <tr>\n",
       "      <th>2</th>\n",
       "      <td>1</td>\n",
       "      <td>-1.06</td>\n",
       "      <td>1.10</td>\n",
       "      <td>-1.31</td>\n",
       "      <td>-1.46</td>\n",
       "      <td>-0.48</td>\n",
       "      <td>-0.83</td>\n",
       "      <td>-0.34</td>\n",
       "      <td>-0.70</td>\n",
       "      <td>-0.55</td>\n",
       "      <td>...</td>\n",
       "      <td>0</td>\n",
       "      <td>0</td>\n",
       "      <td>0</td>\n",
       "      <td>0</td>\n",
       "      <td>0</td>\n",
       "      <td>0</td>\n",
       "      <td>1</td>\n",
       "      <td>0</td>\n",
       "      <td>0</td>\n",
       "      <td>0</td>\n",
       "    </tr>\n",
       "    <tr>\n",
       "      <th>3</th>\n",
       "      <td>1</td>\n",
       "      <td>-0.87</td>\n",
       "      <td>-0.63</td>\n",
       "      <td>1.19</td>\n",
       "      <td>2.00</td>\n",
       "      <td>1.47</td>\n",
       "      <td>0.58</td>\n",
       "      <td>-0.34</td>\n",
       "      <td>-0.08</td>\n",
       "      <td>-0.22</td>\n",
       "      <td>...</td>\n",
       "      <td>0</td>\n",
       "      <td>1</td>\n",
       "      <td>0</td>\n",
       "      <td>0</td>\n",
       "      <td>0</td>\n",
       "      <td>0</td>\n",
       "      <td>0</td>\n",
       "      <td>0</td>\n",
       "      <td>0</td>\n",
       "      <td>0</td>\n",
       "    </tr>\n",
       "    <tr>\n",
       "      <th>4</th>\n",
       "      <td>0</td>\n",
       "      <td>1.06</td>\n",
       "      <td>-1.31</td>\n",
       "      <td>-0.20</td>\n",
       "      <td>0.07</td>\n",
       "      <td>1.53</td>\n",
       "      <td>-0.83</td>\n",
       "      <td>-0.34</td>\n",
       "      <td>-0.21</td>\n",
       "      <td>-0.38</td>\n",
       "      <td>...</td>\n",
       "      <td>0</td>\n",
       "      <td>0</td>\n",
       "      <td>0</td>\n",
       "      <td>0</td>\n",
       "      <td>0</td>\n",
       "      <td>0</td>\n",
       "      <td>0</td>\n",
       "      <td>0</td>\n",
       "      <td>0</td>\n",
       "      <td>0</td>\n",
       "    </tr>\n",
       "  </tbody>\n",
       "</table>\n",
       "<p>5 rows × 31 columns</p>\n",
       "</div>"
      ],
      "text/plain": [
       "   Loan Status  Current Loan Amount  Credit Score  Years in current job  \\\n",
       "0            1                 2.00          0.84                 -0.48   \n",
       "1            1                 0.32          0.49                  0.91   \n",
       "2            1                -1.06          1.10                 -1.31   \n",
       "3            1                -0.87         -0.63                  1.19   \n",
       "4            0                 1.06         -1.31                 -0.20   \n",
       "\n",
       "   Years of Credit History  Months since last delinquent  \\\n",
       "0                     0.84                          0.29   \n",
       "1                    -1.97                          0.77   \n",
       "2                    -1.46                         -0.48   \n",
       "3                     2.00                          1.47   \n",
       "4                     0.07                          1.53   \n",
       "\n",
       "   Number of Open Accounts  Number of Credit Problems  Current Credit Balance  \\\n",
       "0                     0.18                      -0.34                    0.82   \n",
       "1                     1.79                      -0.34                    0.56   \n",
       "2                    -0.83                      -0.34                   -0.70   \n",
       "3                     0.58                      -0.34                   -0.08   \n",
       "4                    -0.83                      -0.34                   -0.21   \n",
       "\n",
       "   Maximum Open Credit  ...  Purpose_EducationalExpenses  \\\n",
       "0                 0.19  ...                            0   \n",
       "1                 1.05  ...                            0   \n",
       "2                -0.55  ...                            0   \n",
       "3                -0.22  ...                            0   \n",
       "4                -0.38  ...                            0   \n",
       "\n",
       "   Purpose_HomeImprovements  Purpose_HomePurchase  Purpose_MajorPurchase  \\\n",
       "0                         0                     0                      0   \n",
       "1                         0                     0                      0   \n",
       "2                         0                     0                      0   \n",
       "3                         1                     0                      0   \n",
       "4                         0                     0                      0   \n",
       "\n",
       "   Purpose_MedicalBills  Purpose_Moving  Purpose_Other  \\\n",
       "0                     0               0              0   \n",
       "1                     0               0              0   \n",
       "2                     0               0              1   \n",
       "3                     0               0              0   \n",
       "4                     0               0              0   \n",
       "\n",
       "   Purpose_RenewableEnergyPurchase  Purpose_Vacation  Purpose_Wedding  \n",
       "0                                0                 0                0  \n",
       "1                                0                 0                0  \n",
       "2                                0                 0                0  \n",
       "3                                0                 0                0  \n",
       "4                                0                 0                0  \n",
       "\n",
       "[5 rows x 31 columns]"
      ]
     },
     "execution_count": 2,
     "metadata": {},
     "output_type": "execute_result"
    }
   ],
   "source": [
    "loan_data = pd.read_csv('data/LoanTrainingSetScaledAndOHE.csv')\n",
    "loan_data.head()"
   ]
  },
  {
   "cell_type": "code",
   "execution_count": 3,
   "metadata": {},
   "outputs": [
    {
     "name": "stdout",
     "output_type": "stream",
     "text": [
      "Decision Tree Accuracy: 0.6218\n"
     ]
    }
   ],
   "source": [
    "X = loan_data.drop('Loan Status', axis=1)\n",
    "y = loan_data['Loan Status']\n",
    "\n",
    "# Train/test split\n",
    "X_train, X_test, y_train, y_test = train_test_split(X, y, test_size=0.30, random_state=123)\n",
    "\n",
    "# Instantiate, Fit, Predict\n",
    "loans_clf = DecisionTreeClassifier() \n",
    "loans_clf.fit(X_train, y_train)\n",
    "y_pred = loans_clf.predict(X_test)\n",
    "\n",
    "# Evaluation metric\n",
    "print(\"Decision Tree Accuracy: {}\".format(accuracy_score(y_test,y_pred)))"
   ]
  },
  {
   "cell_type": "markdown",
   "metadata": {},
   "source": [
    "- Import the correct function to perform cross-validated grid search.\n",
    "- Instantiate a decision tree classifier and use it with the parameter grid to perform a cross-validated grid-search.\n",
    "- Fit and print model evaluation metrics\n"
   ]
  },
  {
   "cell_type": "code",
   "execution_count": 4,
   "metadata": {},
   "outputs": [],
   "source": [
    "# Import modules\n",
    "from sklearn.model_selection import GridSearchCV"
   ]
  },
  {
   "cell_type": "code",
   "execution_count": 5,
   "metadata": {},
   "outputs": [
    {
     "name": "stdout",
     "output_type": "stream",
     "text": [
      "Tuned Decision Tree Parameter: {'criterion': 'gini', 'max_depth': 5, 'min_samples_split': 2}\n",
      "Tuned Decision Tree Accuracy: 0.7168571428571429\n"
     ]
    }
   ],
   "source": [
    "# Create the hyperparameter grid\n",
    "param_grid = {\"criterion\": [\"gini\"], \"min_samples_split\": [2, 10, 20], \n",
    "              \"max_depth\": [None, 2, 5, 10]}\n",
    "\n",
    "# Instantiate classifier and GridSearchCV, fit\n",
    "loans_clf = DecisionTreeClassifier()\n",
    "dtree_cv = GridSearchCV(loans_clf, param_grid, cv=5)\n",
    "fit = dtree_cv.fit(X_train, y_train)\n",
    "\n",
    "# Print the optimal parameters and best score\n",
    "print(\"Tuned Decision Tree Parameter: {}\".format(dtree_cv.best_params_))\n",
    "print(\"Tuned Decision Tree Accuracy: {}\".format(dtree_cv.best_score_))"
   ]
  },
  {
   "cell_type": "markdown",
   "metadata": {},
   "source": [
    "#### K-fold cross-validation improved the accuracy of a decision tree model by more than 10 percent!"
   ]
  },
  {
   "cell_type": "markdown",
   "metadata": {},
   "source": [
    "### A forest of decision trees\n",
    "- **Task** : practice using the bootstrapped Decision Tree, otherwise known as the Random Forest.We'll then compare its accuracy to a model where we've tuned hyperparameters with cross-validation. \n",
    "\n",
    "- This time, we'll tune an additional hyperparameter, **max_features**, which lets our **model decide how many features to use**. When it is not set specifically, then it defaults to auto. Something to keep in mind for an interview is that Decision Trees consider all features by default, whereas Random Forests usually consider the square root of the number of features."
   ]
  },
  {
   "cell_type": "code",
   "execution_count": 6,
   "metadata": {},
   "outputs": [],
   "source": [
    "# Import modules\n",
    "from sklearn.ensemble import RandomForestClassifier\n",
    "from sklearn.metrics import accuracy_score\n"
   ]
  },
  {
   "cell_type": "code",
   "execution_count": 7,
   "metadata": {},
   "outputs": [
    {
     "name": "stdout",
     "output_type": "stream",
     "text": [
      "Random Forest Accuracy: 0.6760666666666667\n"
     ]
    }
   ],
   "source": [
    "# Train/test split\n",
    "X_train, X_test, y_train, y_test = train_test_split(X, y, test_size=0.30, random_state=123)\n",
    "\n",
    "# Instantiate, Fit, Predict\n",
    "loans_rf = RandomForestClassifier() \n",
    "loans_rf.fit(X_train, y_train)\n",
    "y_pred = loans_rf.predict(X_test)\n",
    "\n",
    "# Evaluation metric\n",
    "print(\"Random Forest Accuracy: {}\".format(accuracy_score(y_test,y_pred)))"
   ]
  },
  {
   "cell_type": "code",
   "execution_count": 8,
   "metadata": {},
   "outputs": [
    {
     "name": "stdout",
     "output_type": "stream",
     "text": [
      "Tuned Random Forest Parameter: {'criterion': 'gini', 'max_depth': 5, 'max_features': 20, 'min_samples_split': 20}\n",
      "Tuned Random Forest Accuracy: 0.7203142857142857\n"
     ]
    }
   ],
   "source": [
    "# Create the hyperparameter grid\n",
    "param_grid = {\"criterion\": [\"gini\"], \"min_samples_split\": [2, 10, 20], \n",
    "              \"max_depth\": [None, 2, 5, 10],\"max_features\": [10, 20, 30]}\n",
    "\n",
    "# Instantiate classifier and GridSearchCV, fit\n",
    "loans_rf = RandomForestClassifier()\n",
    "rf_cv = GridSearchCV(loans_rf, param_grid, cv=5)\n",
    "fit = rf_cv.fit(X_train, y_train)\n",
    "\n",
    "# Print the optimal parameters and best score\n",
    "print(\"Tuned Random Forest Parameter: {}\".format(rf_cv.best_params_))\n",
    "print(\"Tuned Random Forest Accuracy: {}\".format(rf_cv.best_score_))"
   ]
  },
  {
   "cell_type": "markdown",
   "metadata": {},
   "source": [
    "#### Although k-fold cross-validation did not improve a random forest model as much as it did for the decision tree, it had a 7 percent improvement over the baseline!"
   ]
  }
 ],
 "metadata": {
  "kernelspec": {
   "display_name": "Python 3",
   "language": "python",
   "name": "python3"
  },
  "language_info": {
   "codemirror_mode": {
    "name": "ipython",
    "version": 3
   },
   "file_extension": ".py",
   "mimetype": "text/x-python",
   "name": "python",
   "nbconvert_exporter": "python",
   "pygments_lexer": "ipython3",
   "version": "3.7.3"
  }
 },
 "nbformat": 4,
 "nbformat_minor": 2
}
