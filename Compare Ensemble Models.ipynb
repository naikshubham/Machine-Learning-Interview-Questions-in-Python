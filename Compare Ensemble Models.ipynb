{
 "cells": [
  {
   "cell_type": "markdown",
   "metadata": {},
   "source": [
    "## Random forest ensemble\n",
    "- **Task** : create and compare two different ensemble models for loan_data. "
   ]
  },
  {
   "cell_type": "code",
   "execution_count": 1,
   "metadata": {},
   "outputs": [],
   "source": [
    "import pandas as pd"
   ]
  },
  {
   "cell_type": "code",
   "execution_count": null,
   "metadata": {},
   "outputs": [],
   "source": [
    "# import and split loan data\n",
    "# awating loan dataset .."
   ]
  },
  {
   "cell_type": "markdown",
   "metadata": {},
   "source": [
    "- Import the modules to create a Random Forest model and create a confusion matrix, accuracy, precision, recall, and F1-scores.\n",
    "- Instantiate a RF classifier and set the appropriate argument to generate 50 estimators.\n",
    "- Fit the data to the instantiated Random Forest Classifier model object.\n",
    "- Create predictions using the trained model object."
   ]
  },
  {
   "cell_type": "code",
   "execution_count": 2,
   "metadata": {},
   "outputs": [],
   "source": [
    "# Import\n",
    "from sklearn.ensemble import RandomForestClassifier\n",
    "from sklearn.metrics import accuracy_score, precision_score, recall_score, confusion_matrix, f1_score\n",
    "\n",
    "# Instantiate, fit, predict\n",
    "rf_model = RandomForestClassifier(n_estimators=50, random_state=123, oob_score = True)\n",
    "\n",
    "rf_fit = rf_model.fit(X_train, y_train)\n",
    "\n",
    "rf_pred = rf_model.predict(X_test)"
   ]
  },
  {
   "cell_type": "code",
   "execution_count": null,
   "metadata": {},
   "outputs": [],
   "source": [
    "# Print evaluation metrics\n",
    "print(\"Random Forest Accuracy: {}\".format(accuracy_score(y_test, rf_pred)))\n",
    "print(\"Confusion matrix:\\n {}\".format(confusion_matrix(y_test, rf_pred)))\n",
    "print(\"Precision: {}\".format(precision_score(y_test, rf_pred)))\n",
    "print(\"Recall: {}\".format(recall_score(y_test, rf_pred)))\n",
    "print(\"F1: {}\".format(f1_score(y_test, rf_pred)))\n"
   ]
  },
  {
   "cell_type": "markdown",
   "metadata": {},
   "source": [
    "#### Now we'll compare these metrics to a Gradient Boosting model "
   ]
  },
  {
   "cell_type": "markdown",
   "metadata": {},
   "source": [
    "## Gradient boosting ensemble\n",
    "- Boosting is a technique where the error of one predictor is passed as input to the next in a sequential manner. Gradient Boosting uses a gradient descent procedure to minimize the log loss for each subsequent classification tree added one at a time that, on their own, are weak decision models. Gradient Boosting for regression is similar, but uses a loss function such as mean squared error applied to gradient descent. \n",
    "- **Task** : create a Gradient Boosting Classifier model and compare its performance to the Random Forest, which had an accuracy score of 72.5%."
   ]
  },
  {
   "cell_type": "code",
   "execution_count": 3,
   "metadata": {},
   "outputs": [],
   "source": [
    "from sklearn.ensemble import GradientBoostingClassifier"
   ]
  },
  {
   "cell_type": "markdown",
   "metadata": {},
   "source": [
    "- Instantiate a GB classifier and set the appropriate argument to generate 50 estimators and with a learning rate of 0.01.\n",
    "- Fit the data and create predictions.\n"
   ]
  },
  {
   "cell_type": "code",
   "execution_count": null,
   "metadata": {},
   "outputs": [],
   "source": [
    "# Instantiate, fit, predict\n",
    "gb_model = GradientBoostingClassifier(n_estimators=50, learning_rate=0.01,random_state=123)\n",
    "gb_fit = gb_model.fit(X_train, y_train)\n",
    "gb_pred = gb_model.predict(X_test)"
   ]
  },
  {
   "cell_type": "markdown",
   "metadata": {},
   "source": [
    "- \n",
    "    Evaluate the model fit by printing trained model evaluation metrics.\n"
   ]
  },
  {
   "cell_type": "code",
   "execution_count": null,
   "metadata": {},
   "outputs": [],
   "source": [
    "# Print evaluation metrics\n",
    "print(\"Gradient Boosting Accuracy: {}\".format(accuracy_score(y_test, gb_pred)))\n",
    "print(\"Confusion matrix:\\n {}\".format(confusion_matrix(y_test, gb_pred)))\n",
    "print(\"Precision: {}\".format(precision_score(y_test, gb_pred)))\n",
    "print(\"Recall: {}\".format(recall_score(y_test, gb_pred)))\n",
    "print(\"F1: {}\".format(f1_score(y_test, gb_pred)))"
   ]
  },
  {
   "cell_type": "markdown",
   "metadata": {},
   "source": [
    "### Random Forest has better accuracy for this dataset"
   ]
  }
 ],
 "metadata": {
  "kernelspec": {
   "display_name": "Python 3",
   "language": "python",
   "name": "python3"
  },
  "language_info": {
   "codemirror_mode": {
    "name": "ipython",
    "version": 3
   },
   "file_extension": ".py",
   "mimetype": "text/x-python",
   "name": "python",
   "nbconvert_exporter": "python",
   "pygments_lexer": "ipython3",
   "version": "3.7.3"
  }
 },
 "nbformat": 4,
 "nbformat_minor": 2
}
