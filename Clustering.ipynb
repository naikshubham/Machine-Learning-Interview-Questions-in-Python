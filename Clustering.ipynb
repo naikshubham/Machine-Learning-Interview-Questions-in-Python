{
 "cells": [
  {
   "cell_type": "markdown",
   "metadata": {},
   "source": [
    "### K-means clustering\n",
    "- **Task** :practice K-means clustering. Using the `.inertia_` attribute to compare models with different numbers of clusters, k.\n",
    "- target variable in the diabetes dataset is progression"
   ]
  },
  {
   "cell_type": "code",
   "execution_count": 1,
   "metadata": {},
   "outputs": [],
   "source": [
    "import pandas as pd\n",
    "from sklearn.cluster import KMeans"
   ]
  },
  {
   "cell_type": "code",
   "execution_count": 3,
   "metadata": {},
   "outputs": [
    {
     "name": "stdout",
     "output_type": "stream",
     "text": [
      "Sum of squared distances for 2 clusters is 7.187000018583656\n"
     ]
    }
   ],
   "source": [
    "diabetes = pd.read_csv('data/diabetes.csv')\n",
    "\n",
    "# Create feature matrix\n",
    "X = diabetes.drop(\"progression\", axis=1)\n",
    "\n",
    "# Instantiate\n",
    "kmeans = KMeans(n_clusters=2, random_state=123)\n",
    "\n",
    "# Fit\n",
    "fit = kmeans.fit(X)\n",
    "\n",
    "# Print inertia\n",
    "print(\"Sum of squared distances for 2 clusters is\", kmeans.inertia_)"
   ]
  },
  {
   "cell_type": "markdown",
   "metadata": {},
   "source": [
    "#### Instantiate a 5 cluster k-means and print its inertia.\n"
   ]
  },
  {
   "cell_type": "code",
   "execution_count": 4,
   "metadata": {},
   "outputs": [
    {
     "name": "stdout",
     "output_type": "stream",
     "text": [
      "Sum of squared distances for 5 clusters is 5.554112564296045\n"
     ]
    }
   ],
   "source": [
    "# Instantiate\n",
    "kmeans = KMeans(n_clusters=5, random_state=123)\n",
    "\n",
    "# Fit\n",
    "fit = kmeans.fit(X)\n",
    "\n",
    "# Print inertia\n",
    "print(\"Sum of squared distances for 5 clusters is\", kmeans.inertia_)"
   ]
  },
  {
   "cell_type": "markdown",
   "metadata": {},
   "source": [
    "#### Fit the feature matrix to a 10-cluster k-means and print its inertia."
   ]
  },
  {
   "cell_type": "code",
   "execution_count": 5,
   "metadata": {},
   "outputs": [
    {
     "name": "stdout",
     "output_type": "stream",
     "text": [
      "Sum of squared distances for 10 clusters is 4.36463117911814\n"
     ]
    }
   ],
   "source": [
    "# Instantiate\n",
    "kmeans = KMeans(n_clusters=10, random_state=123)\n",
    "\n",
    "# Fit\n",
    "fit = kmeans.fit(X)\n",
    "\n",
    "# Print inertia\n",
    "print(\"Sum of squared distances for 10 clusters is\", kmeans.inertia_)"
   ]
  },
  {
   "cell_type": "markdown",
   "metadata": {},
   "source": [
    "#### Fit the feature matrix to a 20-cluster k-means and print its inertia."
   ]
  },
  {
   "cell_type": "code",
   "execution_count": 6,
   "metadata": {},
   "outputs": [
    {
     "name": "stdout",
     "output_type": "stream",
     "text": [
      "Sum of squared distances for 20 clusters is 3.516404544955704\n"
     ]
    }
   ],
   "source": [
    "# Instantiate\n",
    "kmeans = KMeans(n_clusters=20, random_state=123)\n",
    "\n",
    "# Fit\n",
    "fit = kmeans.fit(X)\n",
    "\n",
    "# Print inertia\n",
    "print(\"Sum of squared distances for 20 clusters is\", kmeans.inertia_)"
   ]
  },
  {
   "cell_type": "markdown",
   "metadata": {},
   "source": [
    "## Which value of k returned the lowest inertia? : k=20"
   ]
  },
  {
   "cell_type": "markdown",
   "metadata": {},
   "source": [
    "### Hierarchical agglomerative clustering\n",
    "- We saw how the number of clusters while performing K-means clustering could impact our results .\n",
    "- However, another clustering model we can use is hierarchical agglomerative clustering. In Python, we can derive the optimal number of clusters for this technique both visually and mathematically. We will use the scipy and sklearn modules to do both.\n",
    "- selecting the optimal number of clusters from a dendrogram depends on both the linkage criteria and distance threshold. Here, we'll create a dendrogram with the X matrix from diabetes, then extend an imaginary line at length 1.50, counting the number of vertical lines crossed to represent the optimal number of clusters for our hierarchical clustering algorithm going forward."
   ]
  },
  {
   "cell_type": "code",
   "execution_count": 8,
   "metadata": {},
   "outputs": [],
   "source": [
    "# Import hierarchical clustering libraries\n",
    "import scipy.cluster.hierarchy as sch\n",
    "from sklearn.cluster import AgglomerativeClustering\n",
    "import matplotlib.pyplot as plt"
   ]
  },
  {
   "cell_type": "markdown",
   "metadata": {},
   "source": [
    "#### Create a dendrogram on X using the ward linkage method."
   ]
  },
  {
   "cell_type": "code",
   "execution_count": 9,
   "metadata": {},
   "outputs": [
    {
     "data": {
      "image/png": "[encoded data removed]",
      "text/plain": [
       "<Figure size 432x288 with 1 Axes>"
      ]
     },
     "metadata": {
      "needs_background": "light"
     },
     "output_type": "display_data"
    }
   ],
   "source": [
    "# Create dendrogram\n",
    "dendrogram = sch.dendrogram(sch.linkage(X, method='ward'))\n",
    "plt.show()"
   ]
  },
  {
   "cell_type": "markdown",
   "metadata": {},
   "source": [
    "#### Instantiate an agglomerative clustering  cluster object, then fit it to the data matrix X."
   ]
  },
  {
   "cell_type": "code",
   "execution_count": 12,
   "metadata": {},
   "outputs": [
    {
     "data": {
      "text/plain": [
       "AgglomerativeClustering(affinity='euclidean', compute_full_tree='auto',\n",
       "            connectivity=None, linkage='ward', memory=None, n_clusters=2,\n",
       "            pooling_func='deprecated')"
      ]
     },
     "execution_count": 12,
     "metadata": {},
     "output_type": "execute_result"
    }
   ],
   "source": [
    "# Create clusters and fit\n",
    "hc = AgglomerativeClustering(affinity = 'euclidean', linkage = 'ward')\n",
    "hc.fit(X)"
   ]
  },
  {
   "cell_type": "markdown",
   "metadata": {},
   "source": [
    "#### Print the number of clusters automatically chosen through agglomerative clustering."
   ]
  },
  {
   "cell_type": "code",
   "execution_count": 14,
   "metadata": {},
   "outputs": [
    {
     "name": "stdout",
     "output_type": "stream",
     "text": [
      "2\n"
     ]
    }
   ],
   "source": [
    "# Print number of clusters\n",
    "print(hc.n_clusters)"
   ]
  },
  {
   "cell_type": "markdown",
   "metadata": {},
   "source": [
    "### Both the dendrogram and the AgglomerativeClustering() algorithm selected 2 clusters with diabetes, even though the .inertia_ using KMeans was the highest with n_clusters=20. We'll investigate this more on how to select the best value for k!"
   ]
  },
  {
   "cell_type": "markdown",
   "metadata": {},
   "source": [
    "## Choosing the optimal number of clusters particularly for K-Means\n",
    "\n",
    "### Silhouette method\n",
    "- **Task**:we will be using the silhoutte_score() function from sklearn.metrics on K-means algorithms ran on the diabetes DataFrame in order to perform the Silhouette method for finding the optimal number of clusters. Note we will be using euclidian distance when calculating the score as it ensures comparability between it and the Elbow method.\n"
   ]
  },
  {
   "cell_type": "code",
   "execution_count": 15,
   "metadata": {},
   "outputs": [],
   "source": [
    "# Import modules\n",
    "from sklearn.cluster import KMeans\n",
    "from sklearn.metrics import silhouette_score"
   ]
  },
  {
   "cell_type": "markdown",
   "metadata": {},
   "source": [
    "#### Instantiate, fit and predict a K-Means object for each number of clusters ranging from 2 to 8.\n",
    "#### Print the silhouette score for each iteration of clustering."
   ]
  },
  {
   "cell_type": "code",
   "execution_count": 16,
   "metadata": {},
   "outputs": [
    {
     "name": "stdout",
     "output_type": "stream",
     "text": [
      "For n_clusters = 2, silhouette score is 0.23698717031681762)\n",
      "For n_clusters = 3, silhouette score is 0.15243304093216897)\n",
      "For n_clusters = 4, silhouette score is 0.13869124578567807)\n",
      "For n_clusters = 5, silhouette score is 0.14219201450915492)\n",
      "For n_clusters = 6, silhouette score is 0.1426882658128913)\n",
      "For n_clusters = 7, silhouette score is 0.14004858788249314)\n",
      "For n_clusters = 8, silhouette score is 0.1408921532412176)\n"
     ]
    }
   ],
   "source": [
    "# For loop\n",
    "for n_clusters in range(2,9):\n",
    "    kmeans = KMeans(n_clusters=n_clusters)\n",
    "    # Fit and predict your k-Means object\n",
    "    preds = kmeans.fit_predict(X)\n",
    "    score = silhouette_score(X, preds, metric='euclidean')\n",
    "    print (\"For n_clusters = {}, silhouette score is {})\".format(n_clusters, score))"
   ]
  },
  {
   "cell_type": "markdown",
   "metadata": {},
   "source": [
    "### So the highest silhouette score for the diabetes dataset is with n_clusters=2"
   ]
  },
  {
   "cell_type": "markdown",
   "metadata": {},
   "source": [
    "## Elbow method\n",
    "- The silhouette score and elbow methods provide validation to the results we see from each. In a machine learning interview setting, we may be asked about one or the other but discussing the specifics of one in the context of the other would contribute greatly to our answer.\n",
    "- **Task** :for each k value, we will initialize a K-means model and use the inertia_ attribute to identify the sum of squared distances of samples to the nearest cluster center that, when plotted, appears to be an 'elbow' in the plot."
   ]
  },
  {
   "cell_type": "markdown",
   "metadata": {},
   "source": [
    "#### Create an empty list named  `sum_of_squared_distances`"
   ]
  },
  {
   "cell_type": "code",
   "execution_count": 17,
   "metadata": {},
   "outputs": [],
   "source": [
    "# Create empty list\n",
    "sum_of_squared_distances = []"
   ]
  },
  {
   "cell_type": "markdown",
   "metadata": {},
   "source": [
    "#### Instantiate and fit a K-Means object for each number of clusters ranging from 1 to 14.\n",
    "#### Append the inertia score for each iteration of K-Means to sum_of_squared_distances.\n"
   ]
  },
  {
   "cell_type": "code",
   "execution_count": 18,
   "metadata": {},
   "outputs": [],
   "source": [
    "# Create for loop\n",
    "for k in range(1,15):\n",
    "    kmeans = KMeans(n_clusters=k)\n",
    "    kmeans = kmeans.fit(X)\n",
    "    sum_of_squared_distances.append(kmeans.inertia_)"
   ]
  },
  {
   "cell_type": "markdown",
   "metadata": {},
   "source": [
    "#### Create a plot with the number of clusters on the x-axis, and the sum of squared distances on the y-axis."
   ]
  },
  {
   "cell_type": "code",
   "execution_count": 19,
   "metadata": {},
   "outputs": [
    {
     "data": {
      "image/png": "[encoded data removed]",
      "text/plain": [
       "<Figure size 432x288 with 1 Axes>"
      ]
     },
     "metadata": {
      "needs_background": "light"
     },
     "output_type": "display_data"
    }
   ],
   "source": [
    "# Plot\n",
    "plt.plot(range(1,15), sum_of_squared_distances, 'bx-')\n",
    "plt.xlabel('k')\n",
    "plt.ylabel('Sum of squared distances')\n",
    "plt.title('Elbow Method For Optimal k')\n",
    "plt.show()"
   ]
  },
  {
   "cell_type": "markdown",
   "metadata": {},
   "source": [
    "#### Conclusion : The AgglomerativeClustering(), dendrogram, silhouette score, and elbow method all agree! The best value for k with the diabetes dataset is 2! And really that makes sense if you think about it. The target variable progression, even though it is continuous, can be thought of as belonging to one of 2 groups. When compared to a previous baseline measurement, a given person's diabetes has either progressed or it hasn't!"
   ]
  }
 ],
 "metadata": {
  "kernelspec": {
   "display_name": "Python 3",
   "language": "python",
   "name": "python3"
  },
  "language_info": {
   "codemirror_mode": {
    "name": "ipython",
    "version": 3
   },
   "file_extension": ".py",
   "mimetype": "text/x-python",
   "name": "python",
   "nbconvert_exporter": "python",
   "pygments_lexer": "ipython3",
   "version": "3.7.3"
  }
 },
 "nbformat": 4,
 "nbformat_minor": 2
}
