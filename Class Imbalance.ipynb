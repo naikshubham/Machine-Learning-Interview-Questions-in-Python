{
 "cells": [
  {
   "cell_type": "markdown",
   "metadata": {},
   "source": [
    "## Imbalanced class metrics\n",
    "- Class imbalance is something that can hamper your model's performance in any machine learning context. This is especially relevant in a machine learning interview if we are asked what to do if we are given a dataset with an imbalanced class, as some data is imbalanced by design such as insurance fraud data.\n",
    "- We'll use sklearn to create a logistic regression model and print the confusion matrix along with several evaluation metrics to get a better understanding of how to interpret Machine Learning models from datasets that have a class imbalance."
   ]
  },
  {
   "cell_type": "code",
   "execution_count": 19,
   "metadata": {},
   "outputs": [],
   "source": [
    "# Import\n",
    "import pandas as pd\n",
    "from sklearn.linear_model import LogisticRegression\n",
    "from sklearn.metrics import confusion_matrix, accuracy_score, precision_score, recall_score, f1_score\n",
    "from sklearn.model_selection import train_test_split\n",
    "from sklearn.utils import resample"
   ]
  },
  {
   "cell_type": "code",
   "execution_count": 15,
   "metadata": {},
   "outputs": [
    {
     "name": "stdout",
     "output_type": "stream",
     "text": [
      "Index(['Loan Status', 'Current Loan Amount', 'Credit Score',\n",
      "       'Years in current job', 'Years of Credit History',\n",
      "       'Months since last delinquent', 'Number of Open Accounts',\n",
      "       'Number of Credit Problems', 'Current Credit Balance',\n",
      "       'Maximum Open Credit', 'Bankruptcies', 'Tax Liens', 'DTI Ratio',\n",
      "       'Term_Long Term', 'Term_Short Term', 'Home Ownership_Mortgage',\n",
      "       'Home Ownership_Own Home', 'Home Ownership_Rent',\n",
      "       'Purpose_BusinessLoan', 'Purpose_CarPurchase',\n",
      "       'Purpose_DebtConsolidation', 'Purpose_EducationalExpenses',\n",
      "       'Purpose_HomeImprovements', 'Purpose_HomePurchase',\n",
      "       'Purpose_MajorPurchase', 'Purpose_MedicalBills', 'Purpose_Moving',\n",
      "       'Purpose_Other', 'Purpose_RenewableEnergyPurchase', 'Purpose_Vacation',\n",
      "       'Purpose_Wedding'],\n",
      "      dtype='object')\n"
     ]
    }
   ],
   "source": [
    "data = pd.read_csv('data/LoanTrainingSetScaledAndOHE.csv')\n",
    "print(data.columns)\n",
    "# print(data.head())"
   ]
  },
  {
   "cell_type": "code",
   "execution_count": 16,
   "metadata": {},
   "outputs": [
    {
     "data": {
      "text/plain": [
       "1    35809\n",
       "0    14191\n",
       "Name: Loan Status, dtype: int64"
      ]
     },
     "execution_count": 16,
     "metadata": {},
     "output_type": "execute_result"
    }
   ],
   "source": [
    "data['Loan Status'].value_counts()"
   ]
  },
  {
   "cell_type": "code",
   "execution_count": 17,
   "metadata": {},
   "outputs": [
    {
     "name": "stdout",
     "output_type": "stream",
     "text": [
      "Confusion matrix:\n",
      " [[  359  3898]\n",
      " [  291 10452]]\n",
      "Accuracy: 0.7207333333333333\n",
      "Precision: 0.728362369337979\n",
      "Recall: 0.9729125942474169\n",
      "F1: 0.8330610130315227\n"
     ]
    }
   ],
   "source": [
    "# import data and split\n",
    "X = data.drop('Loan Status', axis=1)\n",
    "y = data['Loan Status']\n",
    "X_train, X_test, y_train, y_test = train_test_split(X, y, test_size=0.3, stratify=y, random_state=123)\n",
    "\n",
    "\n",
    "# Instantiate, fit, predict\n",
    "lr = LogisticRegression(solver='liblinear')\n",
    "lr.fit(X_train, y_train)\n",
    "y_pred = lr.predict(X_test)\n",
    "\n",
    "# Print evaluation metrics\n",
    "print(\"Confusion matrix:\\n {}\".format(confusion_matrix(y_test, y_pred)))\n",
    "print(\"Accuracy: {}\".format(accuracy_score(y_test, y_pred)))\n",
    "print(\"Precision: {}\".format(precision_score(y_test, y_pred)))\n",
    "print(\"Recall: {}\".format(recall_score(y_test, y_pred)))\n",
    "print(\"F1: {}\".format(f1_score(y_test, y_pred)))"
   ]
  },
  {
   "cell_type": "markdown",
   "metadata": {},
   "source": [
    "#### The metrics aren't actually too bad. Precision of 0.72 means there might be a high number of false positives than you really want to see. Let's see if you can improve them in the next exercise with some resampling techniques!"
   ]
  },
  {
   "cell_type": "markdown",
   "metadata": {},
   "source": [
    "## Resampling techniques\n",
    "- We saw how class imbalance can impact the results of our confusion matrix. Here, we'll practice resampling techniques to explore the different results that alternative resampling styles can have on a dataset with class imbalance like that seen with loan_data. Using sklearn's resample() function, matching the number of rows in the majority class is called upsampling, while matching the number of rows in the minority class is called downsampling. \n",
    "- **Task** : create both an upsampled and downsampled version of the loan_data dataset, apply a logistic regression on both of them and then evaluate your performance. The training data and its labels that correspond to deny are subset to contain only the minority class and to approve that correspond to the majority."
   ]
  },
  {
   "cell_type": "code",
   "execution_count": 23,
   "metadata": {},
   "outputs": [
    {
     "name": "stdout",
     "output_type": "stream",
     "text": [
      "0    14191\n",
      "Name: Loan Status, dtype: int64\n",
      "1    35809\n",
      "Name: Loan Status, dtype: int64\n"
     ]
    }
   ],
   "source": [
    "# The training data and its labels that correspond to deny are subset to\n",
    "# contain only the minority class and to approve that correspond to the majority.\n",
    "\n",
    "deny = data[data['Loan Status'] == 0]\n",
    "print(deny['Loan Status'].value_counts())\n",
    "\n",
    "approve = data[data['Loan Status'] == 1]\n",
    "print(approve['Loan Status'].value_counts())"
   ]
  },
  {
   "cell_type": "code",
   "execution_count": 24,
   "metadata": {},
   "outputs": [],
   "source": [
    "# Upsample minority and combine with majority\n",
    "loans_upsampled = resample(deny, replace=True, n_samples=len(approve), random_state=123)\n",
    "upsampled = pd.concat([approve, loans_upsampled])\n",
    "\n",
    "# Downsample majority and combine with minority\n",
    "loans_downsampled = resample(approve, replace = False,  n_samples = len(deny), random_state = 123)\n",
    "downsampled = pd.concat([loans_downsampled, deny])"
   ]
  },
  {
   "cell_type": "markdown",
   "metadata": {},
   "source": [
    "- Create an upsampled feature matrix and target array.\n",
    "- Instantiate a logistic regression model object, fit, and predict with X_test.\n",
    "- Print the evaluation metrics."
   ]
  },
  {
   "cell_type": "code",
   "execution_count": 25,
   "metadata": {},
   "outputs": [
    {
     "name": "stdout",
     "output_type": "stream",
     "text": [
      "Confusion matrix:\n",
      " [[2373 1884]\n",
      " [3616 7127]]\n",
      "Accuracy: 0.6333333333333333\n",
      "Precision: 0.7909222061924315\n",
      "Recall: 0.6634087312668715\n",
      "F1: 0.7215753771388073\n"
     ]
    }
   ],
   "source": [
    "# Upsampled feature matrix and target array\n",
    "X_train_up = upsampled.drop('Loan Status', axis=1)\n",
    "y_train_up = upsampled['Loan Status']\n",
    "\n",
    "# Instantiate, fit, predict\n",
    "loan_lr_up = LogisticRegression(solver='liblinear')\n",
    "loan_lr_up.fit(X_train_up, y_train_up)\n",
    "upsampled_y_pred = loan_lr_up.predict(X_test)\n",
    "\n",
    "# Print evaluation metrics\n",
    "print(\"Confusion matrix:\\n {}\".format(confusion_matrix(y_test, upsampled_y_pred)))\n",
    "print(\"Accuracy: {}\".format(accuracy_score(y_test, upsampled_y_pred)))\n",
    "print(\"Precision: {}\".format(precision_score(y_test, upsampled_y_pred)))\n",
    "print(\"Recall: {}\".format(recall_score(y_test, upsampled_y_pred)))\n",
    "print(\"F1: {}\".format(f1_score(y_test, upsampled_y_pred)))"
   ]
  },
  {
   "cell_type": "markdown",
   "metadata": {},
   "source": [
    "- Create a downsampled feature matrix and target array.\n",
    "- Instantiate a logistic regression model object, fit, and predict with X_test.\n",
    "- Print the evaluation metrics.\n"
   ]
  },
  {
   "cell_type": "code",
   "execution_count": 26,
   "metadata": {},
   "outputs": [
    {
     "name": "stdout",
     "output_type": "stream",
     "text": [
      "Confusion matrix:\n",
      " [[2380 1877]\n",
      " [3695 7048]]\n",
      "Accuracy: 0.6285333333333334\n",
      "Precision: 0.7896918767507003\n",
      "Recall: 0.6560551056501909\n",
      "F1: 0.7166971730730122\n"
     ]
    }
   ],
   "source": [
    "# Downsampled feature matrix and target array\n",
    "X_train_down = downsampled.drop('Loan Status', axis=1)\n",
    "y_train_down = downsampled['Loan Status']\n",
    "\n",
    "# Instantiate, fit, predict\n",
    "loan_lr_down = LogisticRegression(solver='liblinear')\n",
    "loan_lr_down.fit(X_train_down, y_train_down)\n",
    "downsampled_y_pred = loan_lr_down.predict(X_test)\n",
    "\n",
    "# Print evaluation metrics\n",
    "print(\"Confusion matrix:\\n {}\".format(confusion_matrix(y_test, downsampled_y_pred)))\n",
    "print(\"Accuracy: {}\".format(accuracy_score(y_test, downsampled_y_pred)))\n",
    "print(\"Precision: {}\".format(precision_score(y_test, downsampled_y_pred)))\n",
    "print(\"Recall: {}\".format(recall_score(y_test, downsampled_y_pred)))\n",
    "print(\"F1: {}\".format(f1_score(y_test, downsampled_y_pred)))"
   ]
  },
  {
   "cell_type": "markdown",
   "metadata": {},
   "source": [
    "#### Using both upsampling and downsampling techniques improved the precision score significantly, meaning there are less false positives. That is definitely a good thing!"
   ]
  }
 ],
 "metadata": {
  "kernelspec": {
   "display_name": "Python 3",
   "language": "python",
   "name": "python3"
  },
  "language_info": {
   "codemirror_mode": {
    "name": "ipython",
    "version": 3
   },
   "file_extension": ".py",
   "mimetype": "text/x-python",
   "name": "python",
   "nbconvert_exporter": "python",
   "pygments_lexer": "ipython3",
   "version": "3.7.3"
  }
 },
 "nbformat": 4,
 "nbformat_minor": 2
}
